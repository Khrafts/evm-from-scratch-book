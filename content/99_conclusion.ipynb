{
 "cells": [
  {
   "cell_type": "markdown",
   "id": "40a332e8",
   "metadata": {},
   "source": [
    "## Resources"
   ]
  },
  {
   "cell_type": "markdown",
   "id": "66ce841f",
   "metadata": {},
   "source": [
    "If you are looking for an understandable reference implementation, I highly recommend [Py-EVM](https://github.com/ethereum/py-evm).\n",
    "\n",
    "[evm.codes](https://www.evm.codes/) is the best reference for looking up opcodes and what they do.\n",
    "\n",
    "KEVM, a mathematical model and specification of the EVM, can be found [here](https://jellopaper.org/index.html)."
   ]
  }
 ],
 "metadata": {
  "kernelspec": {
   "display_name": "Python 3 (ipykernel)",
   "language": "python",
   "name": "python3"
  },
  "language_info": {
   "codemirror_mode": {
    "name": "ipython",
    "version": 3
   },
   "file_extension": ".py",
   "mimetype": "text/x-python",
   "name": "python",
   "nbconvert_exporter": "python",
   "pygments_lexer": "ipython3",
   "version": "3.9.6"
  }
 },
 "nbformat": 4,
 "nbformat_minor": 5
}
