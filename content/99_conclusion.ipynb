{
 "cells": [
  {
   "cell_type": "markdown",
   "id": "f48af006",
   "metadata": {},
   "source": [
    "Things we are not considering:\n",
    "\n",
    "- under/overflow protection\n",
    "- state access warm/cold like extcodesize\n",
    "- no proof of stake opcodes\n",
    "- gas refund\n",
    "- static call\n",
    "- delegate call"
   ]
  },
  {
   "cell_type": "markdown",
   "id": "40a332e8",
   "metadata": {},
   "source": [
    "## Resources"
   ]
  },
  {
   "cell_type": "markdown",
   "id": "66ce841f",
   "metadata": {},
   "source": [
    "If you are looking for an understandable reference implementation, I highly recommend [Py-EVM](https://github.com/ethereum/py-evm).\n",
    "\n",
    "[evm.codes](https://www.evm.codes/) is the best reference for looking up opcodes and what they do."
   ]
  }
 ],
 "metadata": {
  "kernelspec": {
   "display_name": "Python 3 (ipykernel)",
   "language": "python",
   "name": "python3"
  },
  "language_info": {
   "codemirror_mode": {
    "name": "ipython",
    "version": 3
   },
   "file_extension": ".py",
   "mimetype": "text/x-python",
   "name": "python",
   "nbconvert_exporter": "python",
   "pygments_lexer": "ipython3",
   "version": "3.9.6"
  }
 },
 "nbformat": 4,
 "nbformat_minor": 5
}