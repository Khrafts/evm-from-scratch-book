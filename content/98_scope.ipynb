{
 "cells": [
  {
   "cell_type": "markdown",
   "id": "cee3f1b4",
   "metadata": {
    "vscode": {
     "languageId": "plaintext"
    }
   },
   "source": [
    "## Scope"
   ]
  },
  {
   "cell_type": "markdown",
   "id": "d853b737",
   "metadata": {
    "vscode": {
     "languageId": "plaintext"
    }
   },
   "source": [
    "This book covers fundamentals of the Ethereum Virtual Machine, its opcodes, and a mini EVM implementation from scratch in Python."
   ]
  },
  {
   "cell_type": "markdown",
   "id": "71bcf7f4",
   "metadata": {},
   "source": [
    "## Out of Scope"
   ]
  },
  {
   "cell_type": "markdown",
   "id": "dfcbff5f",
   "metadata": {},
   "source": [
    "Things we are not considering:\n",
    "\n",
    "- under/overflow protection\n",
    "- state access warm/cold like extcodesize\n",
    "- proof of stake opcodes\n",
    "- gas refund\n",
    "- static call\n",
    "- delegate call"
   ]
  }
 ],
 "metadata": {
  "language_info": {
   "name": "python"
  }
 },
 "nbformat": 4,
 "nbformat_minor": 5
}
