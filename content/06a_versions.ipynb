{
 "cells": [
  {
   "cell_type": "markdown",
   "metadata": {},
   "source": [
    "# EVM Versions\n"
   ]
  },
  {
   "cell_type": "markdown",
   "metadata": {},
   "source": [
    "The EVM is not static. It evolves over time through **hard forks** - coordinated upgrades that add new opcodes or change existing behavior.\n"
   ]
  },
  {
   "cell_type": "markdown",
   "metadata": {},
   "source": [
    "## Major Ethereum Forks\n",
    "\n",
    "| Fork | Date | Key Changes |\n",
    "|------|------|-------------|\n",
    "| **Frontier** | Jul 2015 | Original EVM |\n",
    "| **Byzantium** | Oct 2017 | Added REVERT, STATICCALL |\n",
    "| **Constantinople** | Feb 2019 | Added CREATE2, SHL, SHR, SAR |\n",
    "| **London** | Aug 2021 | Added BASEFEE |\n",
    "| **Shanghai** | Apr 2023 | Added PUSH0 |\n",
    "| **Cancun** | Mar 2024 | Added TLOAD, TSTORE |\n"
   ]
  },
  {
   "cell_type": "markdown",
   "metadata": {},
   "source": [
    "## Why This Matters\n",
    "\n",
    "If you write bytecode that uses `PUSH0`, it will work on Shanghai+ but fail on older networks.\n",
    "\n",
    "Before Constantinople, there was no `CREATE2` for deterministic contract addresses.\n",
    "\n",
    "Our mini-EVM implements the latest version (Cancun) with all modern opcodes.\n"
   ]
  }
 ],
 "metadata": {
  "language_info": {
   "name": "python"
  }
 },
 "nbformat": 4,
 "nbformat_minor": 5
}
