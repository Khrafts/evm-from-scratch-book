{
 "cells": [
  {
   "cell_type": "markdown",
   "id": "9e99987a",
   "metadata": {},
   "source": [
    "# Transient Storage"
   ]
  },
  {
   "cell_type": "markdown",
   "id": "b1506617",
   "metadata": {},
   "source": [
    "These opcodes behave almost identically to storage but changes are discarded after every transaction."
   ]
  },
  {
   "cell_type": "markdown",
   "id": "3027a9a9",
   "metadata": {},
   "source": [
    "#### Transient Storage Load"
   ]
  },
  {
   "cell_type": "code",
   "execution_count": 4,
   "id": "b0010cdd",
   "metadata": {},
   "outputs": [],
   "source": [
    "def tload(evm): \n",
    "    key = evm.stack.pop().value\n",
    "    warm, value = evm.storage.load(key)\n",
    "    evm.stack.push(value)\n",
    "\n",
    "    evm.gas_dec(100)\n",
    "    evm.pc += 1"
   ]
  },
  {
   "cell_type": "markdown",
   "id": "1a2422b7",
   "metadata": {},
   "source": [
    "#### Transient Storage Store"
   ]
  },
  {
   "cell_type": "code",
   "execution_count": 3,
   "id": "c7032489",
   "metadata": {},
   "outputs": [],
   "source": [
    "def tstore(evm): \n",
    "    key, value = evm.stack.pop(), evm.stack.pop()\n",
    "    evm.storage.store(key, value)\n",
    "    evm.gas_dec(100)\n",
    "    evm.pc += 1"
   ]
  }
 ],
 "metadata": {
  "kernelspec": {
   "display_name": "Python 3 (ipykernel)",
   "language": "python",
   "name": "python3"
  },
  "language_info": {
   "codemirror_mode": {
    "name": "ipython",
    "version": 3
   },
   "file_extension": ".py",
   "mimetype": "text/x-python",
   "name": "python",
   "nbconvert_exporter": "python",
   "pygments_lexer": "ipython3",
   "version": "3.8.9"
  }
 },
 "nbformat": 4,
 "nbformat_minor": 5
}
