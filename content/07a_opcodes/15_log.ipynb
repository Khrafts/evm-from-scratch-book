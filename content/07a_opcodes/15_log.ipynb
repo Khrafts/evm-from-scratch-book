{
 "cells": [
  {
   "cell_type": "markdown",
   "id": "29145812",
   "metadata": {},
   "source": [
    "# Log"
   ]
  },
  {
   "cell_type": "markdown",
   "id": "3da0811b",
   "metadata": {},
   "source": [
    "Log an event"
   ]
  },
  {
   "cell_type": "code",
   "execution_count": 2,
   "id": "e64eb222",
   "metadata": {},
   "outputs": [],
   "source": [
    "class Log:\n",
    "    def __init__(self,\n",
    "                 data,\n",
    "                 topic1=None,\n",
    "                 topic2=None,\n",
    "                 topic3=None,\n",
    "                 topic4=None):\n",
    "        \n",
    "        self.data = data\n",
    "        self.topic1 = topic1\n",
    "        self.topic2 = topic2\n",
    "        self.topic3 = topic3\n",
    "        self.topic4 = topic4\n",
    "\n",
    "    def __str__(self): return f\"Log: {self.data}\""
   ]
  },
  {
   "cell_type": "code",
   "execution_count": 3,
   "id": "4d252a12",
   "metadata": {},
   "outputs": [],
   "source": [
    "def calc_gas(topic_count, size, memory_expansion_cost=0):\n",
    "    # 375 := static_gas\n",
    "    return 375 * topic_count + 8 * size + memory_expansion_cost"
   ]
  },
  {
   "cell_type": "code",
   "execution_count": 9,
   "id": "0f387cf1",
   "metadata": {},
   "outputs": [],
   "source": [
    "def log0(evm):\n",
    "    offset, size = evm.stack.pop(), evm.stack.pop()\n",
    "\n",
    "    data = evm.memory.access(offset, size)\n",
    "    log = Log(data)\n",
    "    evm.append_log(log)\n",
    "\n",
    "    evm.pc += 1\n",
    "    evm.gas_dec(calc_gas(0, size)) # TODO: memory expansion cost"
   ]
  },
  {
   "cell_type": "code",
   "execution_count": 10,
   "id": "2cf8b1a5",
   "metadata": {},
   "outputs": [],
   "source": [
    "def log1(evm):\n",
    "    offset, size = evm.stack.pop(), evm.stack.pop()\n",
    "    topic = evm.stack.pop().value\n",
    "\n",
    "    data = evm.memory.access(offset, size)\n",
    "    log = Log(data, topic)\n",
    "    evm.append_log(log)\n",
    "\n",
    "    evm.pc += 1\n",
    "    evm.gas_dec(calc_gas(1, size)) # TODO: memory expansion cost\n"
   ]
  },
  {
   "cell_type": "code",
   "execution_count": 11,
   "id": "b6bc3b7f",
   "metadata": {},
   "outputs": [],
   "source": [
    "def log2(evm):\n",
    "    offset, size = evm.stack.pop(), evm.stack.pop()\n",
    "    topic1, topic2 = evm.stack.pop(), evm.stack.pop()\n",
    "\n",
    "    data = evm.memory.access(offset, size)\n",
    "    log = Log(data, topic1, topic2)\n",
    "    evm.append_log(log)\n",
    "\n",
    "    evm.pc += 1\n",
    "    evm.gas_dec(calc_gas(2, size)) # TODO: memory expansion cost"
   ]
  },
  {
   "cell_type": "code",
   "execution_count": 12,
   "id": "47084c53",
   "metadata": {},
   "outputs": [],
   "source": [
    "def log3(evm):\n",
    "    offset, size = evm.stack.pop(), evm.stack.pop()\n",
    "    topic1 = evm.stack.pop()\n",
    "    topic2 = evm.stack.pop()\n",
    "    topic3 = evm.stack.pop()\n",
    "\n",
    "    data = evm.memory.access(offset, size)\n",
    "    log = Log(data, topic1, topic2, topic3)\n",
    "    evm.append_log(log)\n",
    "\n",
    "    evm.pc += 1\n",
    "    evm.gas_dec(calc_gas(3, size)) # TODO: memory expansion cost\n"
   ]
  },
  {
   "cell_type": "code",
   "execution_count": null,
   "id": "8332ffe1",
   "metadata": {},
   "outputs": [],
   "source": [
    "def log4(evm):\n",
    "    offset, size = evm.stack.pop(), evm.stack.pop()\n",
    "    topic1 = evm.stack.pop()\n",
    "    topic2 = evm.stack.pop()\n",
    "    topic3 = evm.stack.pop()\n",
    "    topic4 = evm.stack.pop()\n",
    "\n",
    "    data = evm.memory.access(offset, size)\n",
    "    log = Log(data, topic1, topic2, topic3, topic4)\n",
    "    evm.append_log(log)\n",
    "\n",
    "    evm.pc += 1\n",
    "    evm.gas_dec(calc_gas(4, size)) # TODO: memory expansion cost"
   ]
  }
 ],
 "metadata": {
  "kernelspec": {
   "display_name": "Python 3 (ipykernel)",
   "language": "python",
   "name": "python3"
  },
  "language_info": {
   "codemirror_mode": {
    "name": "ipython",
    "version": 3
   },
   "file_extension": ".py",
   "mimetype": "text/x-python",
   "name": "python",
   "nbconvert_exporter": "python",
   "pygments_lexer": "ipython3",
   "version": "3.8.9"
  }
 },
 "nbformat": 4,
 "nbformat_minor": 5
}
