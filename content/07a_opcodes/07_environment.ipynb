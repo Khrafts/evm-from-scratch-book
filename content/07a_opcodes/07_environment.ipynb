{
 "cells": [
  {
   "cell_type": "markdown",
   "id": "03255559",
   "metadata": {},
   "source": [
    "# Environment"
   ]
  },
  {
   "cell_type": "markdown",
   "id": "1fa2b79c",
   "metadata": {},
   "source": [
    "These opcodes give you access to the Ethereum environment"
   ]
  },
  {
   "cell_type": "markdown",
   "id": "451ec894",
   "metadata": {},
   "source": [
    "#### Address"
   ]
  },
  {
   "cell_type": "markdown",
   "id": "7383a227",
   "metadata": {},
   "source": [
    "Returns the address of the account currently executing this program"
   ]
  },
  {
   "cell_type": "code",
   "execution_count": null,
   "id": "e957a322",
   "metadata": {},
   "outputs": [],
   "source": [
    "def address(evm):\n",
    "    evm.stack.push(evm.sender)\n",
    "    evm.pc += 1\n",
    "    evm.gas_dec(2)"
   ]
  },
  {
   "cell_type": "markdown",
   "id": "c773cc1b",
   "metadata": {},
   "source": [
    "#### Balance"
   ]
  },
  {
   "cell_type": "markdown",
   "id": "0ab650ee",
   "metadata": {},
   "source": [
    "Get the balance of the given address. We only mock this, so we always return the same value for every address."
   ]
  },
  {
   "cell_type": "code",
   "execution_count": 3,
   "id": "2a4f4184",
   "metadata": {},
   "outputs": [],
   "source": [
    "def balance(evm):\n",
    "    address = evm.stack.pop()\n",
    "    evm.stack.push(99999999999)\n",
    "\n",
    "    evm.pc += 1\n",
    "    evm.gas_dec(2600) # 100 if warm"
   ]
  },
  {
   "cell_type": "markdown",
   "id": "e3d1f582",
   "metadata": {},
   "source": [
    "#### Origin"
   ]
  },
  {
   "cell_type": "markdown",
   "id": "e05f87a0",
   "metadata": {},
   "source": [
    "The address that originally triggered the execution. This is `tx.origin`in Solidity.\n",
    "For us `tx.origin` is always equal to `msg.sender`. That is why we simply return the `sender`."
   ]
  },
  {
   "cell_type": "code",
   "execution_count": 2,
   "id": "184910fc",
   "metadata": {},
   "outputs": [],
   "source": [
    "def origin(evm):\n",
    "    evm.stack.push(evm.sender)\n",
    "    evm.pc += 1\n",
    "    evm.gas_dec(2)"
   ]
  },
  {
   "cell_type": "markdown",
   "id": "1420754f",
   "metadata": {},
   "source": [
    "#### Caller"
   ]
  },
  {
   "cell_type": "code",
   "execution_count": 5,
   "id": "7e6253d7",
   "metadata": {},
   "outputs": [],
   "source": [
    "def caller(evm):\n",
    "    evm.stack.push(\"0x414b60745072088d013721b4a28a0559b1A9d213\")\n",
    "    evm.pc += 1\n",
    "    evm.gas_dec(2)"
   ]
  },
  {
   "cell_type": "markdown",
   "id": "8a5c3ddc",
   "metadata": {},
   "source": [
    "#### Callvalue"
   ]
  },
  {
   "cell_type": "markdown",
   "id": "a4cb721d",
   "metadata": {},
   "source": [
    "Returns the value of Ether (wei) provided for this execution"
   ]
  },
  {
   "cell_type": "code",
   "execution_count": 3,
   "id": "ed2ce73a",
   "metadata": {},
   "outputs": [],
   "source": [
    "def callvalue(evm):\n",
    "    evm.stack.push(evm.value)\n",
    "    evm.pc += 1\n",
    "    evm.gas_dec(2)"
   ]
  },
  {
   "cell_type": "markdown",
   "id": "10e433b9",
   "metadata": {},
   "source": [
    "#### Calldataload"
   ]
  },
  {
   "cell_type": "markdown",
   "id": "3496b598",
   "metadata": {},
   "source": [
    "Pushes the current input data (32 bytes) on the stack"
   ]
  },
  {
   "cell_type": "code",
   "execution_count": null,
   "id": "5e50b0a6",
   "metadata": {},
   "outputs": [],
   "source": [
    "def calldataload(evm):\n",
    "    i = evm.stack.pop()\n",
    "\n",
    "    delta = 0\n",
    "    if i+32 > len(evm.calldata):\n",
    "        delta = i+32 - len(evm.calldata)\n",
    "\n",
    "    # always has to be 32 bytes\n",
    "    # if its not we append 0x00 bytes until it is\n",
    "    calldata = evm.calldata[i:i+32-delta]\n",
    "    calldata += 0x00*delta\n",
    "\n",
    "    evm.stack.push(calldata)\n",
    "    evm.pc += 1\n",
    "    evm.gas_dec(3)"
   ]
  },
  {
   "cell_type": "markdown",
   "id": "f51d42de",
   "metadata": {},
   "source": [
    "#### Calldatasize"
   ]
  },
  {
   "cell_type": "markdown",
   "id": "12c11f18",
   "metadata": {},
   "source": [
    "Pushes the size of the calldata on the stack"
   ]
  },
  {
   "cell_type": "code",
   "execution_count": 7,
   "id": "f113ad83",
   "metadata": {},
   "outputs": [],
   "source": [
    "def calldatasize(evm):\n",
    "    evm.stack.push(len(evm.calldata))\n",
    "    evm.pc += 1\n",
    "    evm.gas_dec(2)"
   ]
  },
  {
   "cell_type": "markdown",
   "id": "cc2b23e4",
   "metadata": {},
   "source": [
    "#### Calldatacopy"
   ]
  },
  {
   "cell_type": "markdown",
   "id": "789093d8",
   "metadata": {},
   "source": [
    "Stores a specified part of the calldata in memory"
   ]
  },
  {
   "cell_type": "code",
   "execution_count": 8,
   "id": "fad6dc1e",
   "metadata": {},
   "outputs": [],
   "source": [
    "def calldatacopy(evm):\n",
    "    destOffset = evm.stack.pop()\n",
    "    offset = evm.stack.pop()\n",
    "    size = evm.stack.pop()\n",
    "\n",
    "    calldata = evm.calldata[offset:offset+size]\n",
    "    memory_expansion_cost = evm.memory.store(destOffset, calldata)\n",
    "\n",
    "    static_gas = 3\n",
    "    minimum_word_size = (size + 31) // 32\n",
    "    dynamic_gas = 3 * minimum_word_size + memory_expansion_cost\n",
    "\n",
    "    evm.gas_dec(static_gas + dynamic_gas)\n",
    "    evm.pc += 1"
   ]
  },
  {
   "cell_type": "markdown",
   "id": "e4198cdc",
   "metadata": {},
   "source": [
    "#### Codesize"
   ]
  },
  {
   "cell_type": "markdown",
   "id": "485b67e8",
   "metadata": {},
   "source": [
    "Puts the size of the currently running program on the stack"
   ]
  },
  {
   "cell_type": "code",
   "execution_count": 9,
   "id": "3722d443",
   "metadata": {},
   "outputs": [],
   "source": [
    "def codesize(evm):\n",
    "    evm.stack.push(len(evm.program))\n",
    "    evm.pc += 1\n",
    "    evm.gas_dec(2)"
   ]
  },
  {
   "cell_type": "markdown",
   "id": "3ec39a93",
   "metadata": {},
   "source": [
    "#### Codecopy"
   ]
  },
  {
   "cell_type": "markdown",
   "id": "59a7e30f",
   "metadata": {},
   "source": [
    "Stores a specified part of the program in memory"
   ]
  },
  {
   "cell_type": "code",
   "execution_count": 10,
   "id": "9c145044",
   "metadata": {},
   "outputs": [],
   "source": [
    "def codecopy(evm):\n",
    "    destOffset = evm.stack.pop()\n",
    "    offset     = evm.stack.pop()\n",
    "    size       = evm.stack.pop()\n",
    "\n",
    "    code = evm.program[offset:offset+size]\n",
    "    memory_expansion_cost = evm.memory.store(destOffset, code)\n",
    "\n",
    "    static_gas = 3\n",
    "    minimum_word_size = (size + 31) / 32\n",
    "    dynamic_gas = 3 * minimum_word_size + memory_expansion_cost\n",
    "\n",
    "    evm.gas_dec(static_gas + dynamic_gas)\n",
    "    evm.pc += 1"
   ]
  },
  {
   "cell_type": "markdown",
   "id": "6b2e5e49",
   "metadata": {},
   "source": [
    "#### Gas Price"
   ]
  },
  {
   "cell_type": "markdown",
   "id": "eb7d2869",
   "metadata": {},
   "source": [
    "The current gas price. Because we are running everything locally, the gas price is simply 0."
   ]
  },
  {
   "cell_type": "code",
   "execution_count": 11,
   "id": "f11fcf1b",
   "metadata": {},
   "outputs": [],
   "source": [
    "def gasprice(evm):\n",
    "    evm.stack.push(0x00)\n",
    "    evm.pc += 1\n",
    "    evm.gas_dec(2)"
   ]
  },
  {
   "cell_type": "markdown",
   "id": "bbf3852f",
   "metadata": {},
   "source": [
    "#### External Code Size"
   ]
  },
  {
   "cell_type": "markdown",
   "id": "1c843271",
   "metadata": {},
   "source": [
    "The size of another program given by its address. There are no other programs in our simplified world so we simply return 0."
   ]
  },
  {
   "cell_type": "code",
   "execution_count": 12,
   "id": "12b53b96",
   "metadata": {},
   "outputs": [],
   "source": [
    "def extcodesize(evm):\n",
    "    address = evm.stack.pop()\n",
    "    evm.stack.push(0x00)\n",
    "    evm.gas_dec(2600) # 100 if warm\n",
    "    evm.pc += 1"
   ]
  },
  {
   "cell_type": "markdown",
   "id": "5c234854",
   "metadata": {},
   "source": [
    "#### External Code Copy"
   ]
  },
  {
   "cell_type": "markdown",
   "id": "4dcf5a4b",
   "metadata": {},
   "source": [
    "Stores a specified part of another program in memory"
   ]
  },
  {
   "cell_type": "code",
   "execution_count": 13,
   "id": "934ca4f6",
   "metadata": {},
   "outputs": [],
   "source": [
    "def extcodecopy(evm):\n",
    "    address    = evm.stack.pop()\n",
    "    destOffset = evm.stack.pop()\n",
    "    offset     = evm.stack.pop()\n",
    "    size       = evm.stack.pop()\n",
    "\n",
    "    extcode = [] # no external code\n",
    "    memory_expansion_cost = evm.memory.store(destOffset, extcode)\n",
    "\n",
    "    # refactor this in seperate method\n",
    "    minimum_word_size = (size + 31) / 32\n",
    "    dynamic_gas = 3 * minimum_word_size + memory_expansion_cost\n",
    "    address_access_cost = 100 if warm else 2600\n",
    "\n",
    "    evm.gas_dec(dynamic_gas + address_access_cost)\n",
    "    evm.pc += 1"
   ]
  },
  {
   "cell_type": "markdown",
   "id": "93e06567",
   "metadata": {},
   "source": [
    "#### Return Data Size"
   ]
  },
  {
   "cell_type": "markdown",
   "id": "c3c1f4f1",
   "metadata": {},
   "source": [
    "Get size of output data from the previous call from the current environment. As our execution is the only one running, there is no previous return data. Therefore we can simply return 0."
   ]
  },
  {
   "cell_type": "code",
   "execution_count": 14,
   "id": "f9dce9b3",
   "metadata": {},
   "outputs": [],
   "source": [
    "def returndatasize(evm):\n",
    "    evm.stack.push(0x00) # no return data\n",
    "    evm.pc += 1\n",
    "    evm.gas_dec(2)"
   ]
  },
  {
   "cell_type": "markdown",
   "id": "af214873",
   "metadata": {},
   "source": [
    "#### Return Data Copy"
   ]
  },
  {
   "cell_type": "markdown",
   "id": "e5bcbf77",
   "metadata": {},
   "source": [
    "Stores a specified part of the previous return data in memory"
   ]
  },
  {
   "cell_type": "code",
   "execution_count": 15,
   "id": "ec3f21e0",
   "metadata": {},
   "outputs": [],
   "source": [
    "def returndatacopy(evm):\n",
    "    destOffset = evm.stack.pop()\n",
    "    offset     = evm.stack.pop()\n",
    "    size       = evm.stack.pop()\n",
    "\n",
    "    returndata            = evm.program[offset:offset+size]\n",
    "    memory_expansion_cost = evm.memory.store(destOffset, returndata)\n",
    "\n",
    "    minimum_word_size = (size + 31) / 32\n",
    "    dynamic_gas = 3 * minimum_word_size + memory_expansion_cost\n",
    "\n",
    "    evm.gas_dec(3 + dynamic_gas)\n",
    "    evm.pc += 1"
   ]
  },
  {
   "cell_type": "markdown",
   "id": "429ca19e",
   "metadata": {},
   "source": [
    "#### External Code Hash"
   ]
  },
  {
   "cell_type": "markdown",
   "id": "55cfd8d2",
   "metadata": {},
   "source": [
    "The hash of another program given by its address. There are no other programs in our simplified world so we simply return 0."
   ]
  },
  {
   "cell_type": "code",
   "execution_count": null,
   "id": "0501762f",
   "metadata": {},
   "outputs": [],
   "source": [
    "def extcodehash(evm):\n",
    "    address = evm.stack.pop()\n",
    "    evm.stack.push(0x00) # no code\n",
    "\n",
    "    evm.gas_dec(2600) # 100 if warm\n",
    "    evm.pc += 1"
   ]
  },
  {
   "cell_type": "markdown",
   "id": "8ccb0b87",
   "metadata": {},
   "source": [
    "#### Block Hash"
   ]
  },
  {
   "cell_type": "markdown",
   "id": "ccef2d60",
   "metadata": {},
   "source": [
    "Get the hash of one of the 256 most recent complete blocks and push it on the stack."
   ]
  },
  {
   "cell_type": "code",
   "execution_count": null,
   "id": "a8bc2485",
   "metadata": {},
   "outputs": [],
   "source": [
    "def blockhash(evm):\n",
    "    blockNumber = evm.stack.pop()\n",
    "    if blockNumber > 256: raise Exception(\"Only last 256 blocks can be accessed\")\n",
    "    evm.stack.push(0x1cbcfa1ffb1ca1ca8397d4f490194db5fc0543089b9dee43f76cf3f962a185e8)\n",
    "    evm.pc += 1\n",
    "    evm.gas_dec(20)"
   ]
  },
  {
   "cell_type": "markdown",
   "id": "94fd73fd",
   "metadata": {},
   "source": [
    "#### Coinbase"
   ]
  },
  {
   "cell_type": "markdown",
   "id": "03642f33",
   "metadata": {},
   "source": [
    "Get the address of the miner for this block"
   ]
  },
  {
   "cell_type": "code",
   "execution_count": null,
   "id": "7808257e",
   "metadata": {},
   "outputs": [],
   "source": [
    "def coinbase(evm):\n",
    "    evm.stack.push(0x1cbcfa1ffb1ca1ca8397d4f490194db5fc0543089b9dee43f76cf3f962a185e8)\n",
    "    evm.pc += 1\n",
    "    evm.gas_dec(2)"
   ]
  }
 ],
 "metadata": {
  "kernelspec": {
   "display_name": "Python 3 (ipykernel)",
   "language": "python",
   "name": "python3"
  },
  "language_info": {
   "codemirror_mode": {
    "name": "ipython",
    "version": 3
   },
   "file_extension": ".py",
   "mimetype": "text/x-python",
   "name": "python",
   "nbconvert_exporter": "python",
   "pygments_lexer": "ipython3",
   "version": "3.8.9"
  }
 },
 "nbformat": 4,
 "nbformat_minor": 5
}
