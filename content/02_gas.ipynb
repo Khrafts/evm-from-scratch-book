{
 "cells": [
  {
   "cell_type": "markdown",
   "id": "992711fa",
   "metadata": {},
   "source": [
    "# Gas"
   ]
  },
  {
   "cell_type": "markdown",
   "id": "12aaac06",
   "metadata": {},
   "source": [
    "Gas is a very important concept. It is a measure for the amount of computational work. That could be storing a value in storage, expanding the size of memory or executing an arithmetic operation."
   ]
  },
  {
   "cell_type": "markdown",
   "id": "43167a92",
   "metadata": {},
   "source": [
    "![title](https://media.marketrealist.com/brand-img/wU7UDcqaF/0x0/ethereum-gas-fee-1620759494562.png)"
   ]
  },
  {
   "cell_type": "markdown",
   "id": "e03eb856",
   "metadata": {},
   "source": [
    "We need gas because the resources for doing computational work are limited. So to avoid a DDOS attack for example a user needs to spend some gas to run his program."
   ]
  },
  {
   "cell_type": "markdown",
   "id": "ce1857b1",
   "metadata": {},
   "source": [
    "Gas has to be paid in ETH. If you run out of gas while executing your bytecode, your execution stops."
   ]
  }
 ],
 "metadata": {
  "kernelspec": {
   "display_name": "Python 3 (ipykernel)",
   "language": "python",
   "name": "python3"
  },
  "language_info": {
   "codemirror_mode": {
    "name": "ipython",
    "version": 3
   },
   "file_extension": ".py",
   "mimetype": "text/x-python",
   "name": "python",
   "nbconvert_exporter": "python",
   "pygments_lexer": "ipython3",
   "version": "3.9.6"
  }
 },
 "nbformat": 4,
 "nbformat_minor": 5
}
