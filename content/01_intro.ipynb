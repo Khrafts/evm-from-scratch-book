{
 "cells": [
  {
   "cell_type": "markdown",
   "id": "a73a3c4a",
   "metadata": {},
   "source": [
    "# Introduction"
   ]
  },
  {
   "cell_type": "markdown",
   "id": "62571ed2",
   "metadata": {},
   "source": []
  },
  {
   "cell_type": "markdown",
   "id": "490c497a",
   "metadata": {},
   "source": [
    "> \"If you can not build it from scratch, you do not understand it\". \n",
    "\n",
    "If you have ever interacted with Ethereum, whether as a developer or as a user, there is a good chance you came across the `EVM`."
   ]
  },
  {
   "cell_type": "markdown",
   "id": "a9201c3f",
   "metadata": {},
   "source": [
    "## EVM"
   ]
  },
  {
   "cell_type": "markdown",
   "id": "ff1aa7b6",
   "metadata": {},
   "source": [
    "The EVM is a central part of Ethereum. It is Ethereum's execution engine, responsible for executing Ethereum programs, also called Smart Contracts."
   ]
  },
  {
   "cell_type": "markdown",
   "id": "0ae64c47",
   "metadata": {},
   "source": [
    "In this tutorial, we are going to build the EVM from scratch. However, **this is not a reference implementation.** I will omit implementation details if I believe they are not necessary for understanding how the EVM works. This is about learning the core concepts of the EVM from first principles."
   ]
  },
  {
   "cell_type": "markdown",
   "id": "678fafad",
   "metadata": {},
   "source": [
    "That is why I want to call it a mini-EVM. A working but simplified version of the real thing. A virtual machine that takes in an Ethereum program as input and executes that."
   ]
  },
  {
   "cell_type": "markdown",
   "id": "6b794f53",
   "metadata": {},
   "source": [
    "But what is the EVM exactly? It is a `Virtual Machine` responsible for executing Ethereum `bytecode`."
   ]
  },
  {
   "cell_type": "markdown",
   "id": "ab9242df",
   "metadata": {},
   "source": [
    "## Virtual Machine\n",
    "\n",
    "A virtual machine is like a make-believe computer that runs on your real computer. Instead of needing a separate physical machine, it's all done with software on the computer you already have.\n",
    "\n",
    "Just like a real computer has its own language. For the EVM, this language is called Ethereum bytecode. "
   ]
  },
  {
   "cell_type": "markdown",
   "id": "e9101ece",
   "metadata": {},
   "source": [
    "## Bytecode"
   ]
  },
  {
   "cell_type": "markdown",
   "id": "4cb75cdf",
   "metadata": {},
   "source": [
    "Bytecode is simply a list of valid EVM `opcodes`. An opcode is an operation like `ADD`, `SUBTRACT`, or `STOP`."
   ]
  },
  {
   "cell_type": "markdown",
   "id": "1a5bc5b1",
   "metadata": {},
   "source": [
    "Some of them can be seen in the table below:\n",
    "\n",
    "| OPCODE | NAME | DESCRIPTION |\n",
    "|----------|----------|----------|\n",
    "| 0x00 | STOP | Halts Execution |\n",
    "| 0x01 | ADD | Addition operation |\n",
    "| 0x02 | MUL | Multiplication operation |\n",
    "| 0x03 | SUB | Subtraction operation |\n",
    "| 0x04 | DIV | Integer division operation |"
   ]
  },
  {
   "cell_type": "markdown",
   "id": "936f584c",
   "metadata": {},
   "source": [
    "Importantly, the EVM does not understand what `ADD` or `SUBTRACT` means. It only knows the identifier of the opcode. For `ADD` that would be `0x01`."
   ]
  },
  {
   "cell_type": "markdown",
   "id": "c9d06a84",
   "metadata": {},
   "source": [
    "So a valid program would look like this: `604260005260206000F3`. This is something the EVM could interpret."
   ]
  },
  {
   "cell_type": "markdown",
   "id": "b8053d2e",
   "metadata": {},
   "source": [
    "Currently there are 144 opcodes. You can see all of them [here](https://www.evm.codes/?fork=shanghai). This number changes all the time and is not fixed. New opcodes are added and old ones are deprecated quite frequently."
   ]
  },
  {
   "cell_type": "markdown",
   "id": "b4fd54c6",
   "metadata": {},
   "source": [
    "## Solidity, Vyper, Huff"
   ]
  },
  {
   "cell_type": "markdown",
   "id": "8065c220",
   "metadata": {},
   "source": [
    "As a developer you really don't want to write bytecode directly most of the time. This would be very slow and very error prone. This is where high-level programming languages like Solidity or Vyper come in."
   ]
  },
  {
   "cell_type": "markdown",
   "id": "07b18a11",
   "metadata": {},
   "source": [
    "But a Solidity or Vyper file is simply a text file. This is not something the EVM understands. We need a program that takes in the text file and translates that to EVM bytecode. This program is called the `compiler`. "
   ]
  },
  {
   "cell_type": "markdown",
   "id": "6f926b25",
   "metadata": {},
   "source": [
    "![title](../static/solidity-compiler.png)"
   ]
  },
  {
   "cell_type": "markdown",
   "id": "f1483dc7",
   "metadata": {},
   "source": [
    "If a programming language can be translated (compiled) to EVM bytecode, it is said to `target` the EVM."
   ]
  },
  {
   "cell_type": "markdown",
   "id": "c223bcf8",
   "metadata": {},
   "source": [
    "## Ethereum vs Bitcoin"
   ]
  },
  {
   "cell_type": "markdown",
   "id": "942df76a",
   "metadata": {},
   "source": [
    "What makes Ethereum so special? Compared to other blockchains that came before it like Bitcoin."
   ]
  },
  {
   "cell_type": "markdown",
   "id": "242f02f0",
   "metadata": {},
   "source": [
    "Ethereum is \"special\" because it is universal or `Turing complete`. Which means that any arbitrary program can be run on the EVM (we ignore gas and memory restrictions)."
   ]
  },
  {
   "cell_type": "markdown",
   "id": "61e9d9d8",
   "metadata": {},
   "source": [
    "Bitcoin also has programming capabilities, called `bitcoin script`. But importantly, bitcoin script is **NOT** turing complete. There are programs that you simply can not implement in bitcoin script. That is not the case with the EVM."
   ]
  },
  {
   "cell_type": "markdown",
   "id": "110dba1d",
   "metadata": {},
   "source": [
    "## Outline"
   ]
  },
  {
   "cell_type": "markdown",
   "id": "5091ece3",
   "metadata": {},
   "source": [
    "We will build our mini-EVM from the bottom up. We will start with the `Stack`. Then move to `Memory` and `Storage`. Then we will implement the opcodes, which will take most of our time. "
   ]
  },
  {
   "cell_type": "markdown",
   "id": "6eae2f72",
   "metadata": {},
   "source": [
    "After having built all these building blocks, we will combine them to create our own EVM. In the end we are going to use our EVM to run some programs."
   ]
  },
  {
   "cell_type": "markdown",
   "id": "cb09458c",
   "metadata": {},
   "source": [
    "It is important to understand that our mini-EVM lives in total isolation. It has no clue about other contracts or accounts. Functions that need to interact with the \"outside world\" are mocked. This is a deliberate choice to keep it simple."
   ]
  },
  {
   "cell_type": "markdown",
   "id": "2968d212",
   "metadata": {},
   "source": [
    "## Prerequisites"
   ]
  },
  {
   "cell_type": "markdown",
   "id": "a7f43959",
   "metadata": {},
   "source": [
    "- Python\n",
    "- Hexadecimal Numbers"
   ]
  },
  {
   "cell_type": "markdown",
   "id": "134312fc",
   "metadata": {},
   "source": [
    "## Notes"
   ]
  },
  {
   "cell_type": "markdown",
   "id": "ea93cf1f",
   "metadata": {},
   "source": [
    "EVM implementations are language agnostic, requiring only adherence to the specification. The official Ethereum documentation provides a [list](https://ethereum.org/en/developers/docs/evm/#evm-implementations) of various implementations."
   ]
  },
  {
   "cell_type": "markdown",
   "id": "1619c219",
   "metadata": {},
   "source": [
    "Every notebook is available [here](https://github.com/shafu0x/evm-from-scratch-book/tree/main/content). If you see any mistakes please create an [Issue](https://github.com/shafu0x/evm-from-scratch-book/issues) on GitHub, or even better create a [Pull Request](https://github.com/shafu0x/evm-from-scratch-book/pulls)."
   ]
  }
 ],
 "metadata": {
  "kernelspec": {
   "display_name": "Python 3 (ipykernel)",
   "language": "python",
   "name": "python3"
  },
  "language_info": {
   "codemirror_mode": {
    "name": "ipython",
    "version": 3
   },
   "file_extension": ".py",
   "mimetype": "text/x-python",
   "name": "python",
   "nbconvert_exporter": "python",
   "pygments_lexer": "ipython3",
   "version": "3.9.6"
  }
 },
 "nbformat": 4,
 "nbformat_minor": 5
}
